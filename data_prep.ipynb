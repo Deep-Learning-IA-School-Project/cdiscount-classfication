{
 "cells": [
  {
   "cell_type": "code",
   "execution_count": 166,
   "id": "f7fcbc91-0888-47c7-9453-48ef48ff71d3",
   "metadata": {},
   "outputs": [],
   "source": [
    "import matplotlib.pyplot as plt\n",
    "import numpy as np\n",
    "import pandas as pd\n",
    "import bson\n",
    "import base64\n",
    "import os\n",
    "import tqdm"
   ]
  },
  {
   "cell_type": "code",
   "execution_count": 167,
   "id": "f62c1302",
   "metadata": {},
   "outputs": [],
   "source": [
    "# Constants\n",
    "IMAGES_FOLDER = \"data/images\"\n",
    "NUMBER_IMAGE_MINIMUM = 0\n",
    "MAX_RECORD = 50000"
   ]
  },
  {
   "cell_type": "markdown",
   "id": "ae507cd8-ff96-4e3e-aa21-fcf82be43fb1",
   "metadata": {},
   "source": [
    "## Read the BSON file and create a Pandas DataFrame out of it"
   ]
  },
  {
   "cell_type": "code",
   "execution_count": 168,
   "id": "87508f24-1421-4fa3-ab72-59b213680208",
   "metadata": {},
   "outputs": [],
   "source": [
    "categories_df = pd.read_csv(\"data/category_names.csv\")\n",
    "data = bson.decode_file_iter(open(\"data/train.bson\", \"rb\"))"
   ]
  },
  {
   "cell_type": "code",
   "execution_count": 169,
   "id": "71d8e081-14c4-4830-80c0-93615a0ecc7c",
   "metadata": {},
   "outputs": [],
   "source": [
    "def encode_b64(data) :\n",
    "    encoded = base64.b64encode(data)\n",
    "    return encoded\n",
    "\n",
    "def create_dataframe(data_gen) :\n",
    "    ids = []\n",
    "    category_ids = []\n",
    "    imgs = []\n",
    "    i=0\n",
    "    counter = 0\n",
    "    \n",
    "    for c, d in enumerate(data_gen):\n",
    "        i += 1\n",
    "        \n",
    "        if (i % (MAX_RECORD/10)) == 0:\n",
    "            counter += 10\n",
    "            print(str(counter) + \"%\")\n",
    "        \n",
    "        if i > MAX_RECORD:\n",
    "            break\n",
    "        product_id = d[\"_id\"]\n",
    "        category_id = d[\"category_id\"]\n",
    "        for img_dict in d[\"imgs\"]:\n",
    "            img = encode_b64(img_dict[\"picture\"])\n",
    "            decoded_pic = img.decode(\"utf-8\")\n",
    "            \n",
    "            ids.append(product_id)\n",
    "            category_ids.append(category_id)\n",
    "            imgs.append(decoded_pic)\n",
    "    return pd.DataFrame({\"_id\":ids, \"category_id\":category_ids, \"picture\":imgs})"
   ]
  },
  {
   "cell_type": "code",
   "execution_count": 170,
   "id": "77a33576-d42b-4dd1-8127-bbaafeef8b38",
   "metadata": {},
   "outputs": [
    {
     "name": "stdout",
     "output_type": "stream",
     "text": [
      "10%\n",
      "20%\n",
      "30%\n",
      "40%\n",
      "50%\n",
      "60%\n",
      "70%\n",
      "80%\n",
      "90%\n",
      "100%\n"
     ]
    }
   ],
   "source": [
    "df = create_dataframe(data)\n",
    "df.to_csv(\"data/data.csv\", index=False)"
   ]
  },
  {
   "cell_type": "markdown",
   "id": "45f1bef0-7aae-4283-9c67-a8d83a72023b",
   "metadata": {},
   "source": [
    "**The data contained in the BSON file has been extracted in a Pandas DataFrame**"
   ]
  },
  {
   "cell_type": "code",
   "execution_count": 171,
   "id": "5ad9995c-3cdc-4c15-abb4-33731176b90e",
   "metadata": {},
   "outputs": [
    {
     "data": {
      "text/html": [
       "<div>\n",
       "<style scoped>\n",
       "    .dataframe tbody tr th:only-of-type {\n",
       "        vertical-align: middle;\n",
       "    }\n",
       "\n",
       "    .dataframe tbody tr th {\n",
       "        vertical-align: top;\n",
       "    }\n",
       "\n",
       "    .dataframe thead th {\n",
       "        text-align: right;\n",
       "    }\n",
       "</style>\n",
       "<table border=\"1\" class=\"dataframe\">\n",
       "  <thead>\n",
       "    <tr style=\"text-align: right;\">\n",
       "      <th></th>\n",
       "      <th>_id</th>\n",
       "      <th>category_id</th>\n",
       "      <th>picture</th>\n",
       "    </tr>\n",
       "  </thead>\n",
       "  <tbody>\n",
       "    <tr>\n",
       "      <th>0</th>\n",
       "      <td>0</td>\n",
       "      <td>1000010653</td>\n",
       "      <td>/9j/4AAQSkZJRgABAQAAAQABAAD/2wBDAAgGBgcGBQgHBw...</td>\n",
       "    </tr>\n",
       "    <tr>\n",
       "      <th>1</th>\n",
       "      <td>1</td>\n",
       "      <td>1000010653</td>\n",
       "      <td>/9j/4AAQSkZJRgABAQAAAQABAAD/2wBDAAgGBgcGBQgHBw...</td>\n",
       "    </tr>\n",
       "    <tr>\n",
       "      <th>2</th>\n",
       "      <td>2</td>\n",
       "      <td>1000004079</td>\n",
       "      <td>/9j/4AAQSkZJRgABAQAAAQABAAD/2wBDAAgGBgcGBQgHBw...</td>\n",
       "    </tr>\n",
       "    <tr>\n",
       "      <th>3</th>\n",
       "      <td>3</td>\n",
       "      <td>1000004141</td>\n",
       "      <td>/9j/4AAQSkZJRgABAQAAAQABAAD/2wBDAAgGBgcGBQgHBw...</td>\n",
       "    </tr>\n",
       "    <tr>\n",
       "      <th>4</th>\n",
       "      <td>4</td>\n",
       "      <td>1000015539</td>\n",
       "      <td>/9j/4AAQSkZJRgABAQAAAQABAAD/2wBDAAgGBgcGBQgHBw...</td>\n",
       "    </tr>\n",
       "  </tbody>\n",
       "</table>\n",
       "</div>"
      ],
      "text/plain": [
       "   _id  category_id                                            picture\n",
       "0    0   1000010653  /9j/4AAQSkZJRgABAQAAAQABAAD/2wBDAAgGBgcGBQgHBw...\n",
       "1    1   1000010653  /9j/4AAQSkZJRgABAQAAAQABAAD/2wBDAAgGBgcGBQgHBw...\n",
       "2    2   1000004079  /9j/4AAQSkZJRgABAQAAAQABAAD/2wBDAAgGBgcGBQgHBw...\n",
       "3    3   1000004141  /9j/4AAQSkZJRgABAQAAAQABAAD/2wBDAAgGBgcGBQgHBw...\n",
       "4    4   1000015539  /9j/4AAQSkZJRgABAQAAAQABAAD/2wBDAAgGBgcGBQgHBw..."
      ]
     },
     "execution_count": 171,
     "metadata": {},
     "output_type": "execute_result"
    }
   ],
   "source": [
    "df.head(5)"
   ]
  },
  {
   "cell_type": "markdown",
   "id": "eaff173a-293d-4dca-bac9-7ec42e1ec886",
   "metadata": {},
   "source": [
    "## Exploration"
   ]
  },
  {
   "cell_type": "markdown",
   "id": "91a1c4c7-84a1-411f-b113-09db122c8cac",
   "metadata": {},
   "source": [
    "The data is read with pandas from the csv that we extracted from the BSON file"
   ]
  },
  {
   "cell_type": "code",
   "execution_count": 172,
   "id": "b82380f0-e059-4cd2-92c7-9fce3c7c8228",
   "metadata": {},
   "outputs": [],
   "source": [
    "data_df = pd.read_csv(\"data/data.csv\")"
   ]
  },
  {
   "cell_type": "code",
   "execution_count": 173,
   "id": "ddfe6683-4c48-46c7-b85f-8674f01aca17",
   "metadata": {},
   "outputs": [],
   "source": [
    "def decode(data):\n",
    "    arr = np.asarray(bytearray(data), dtype=np.uint8)\n",
    "    img = cv2.imdecode(arr, cv2.IMREAD_COLOR)\n",
    "    return cv2.cvtColor(img, cv2.COLOR_BGR2RGB) "
   ]
  },
  {
   "cell_type": "code",
   "execution_count": 174,
   "id": "90634c5b-9619-42e1-8733-e3a76cef72b2",
   "metadata": {},
   "outputs": [
    {
     "data": {
      "text/html": [
       "<div>\n",
       "<style scoped>\n",
       "    .dataframe tbody tr th:only-of-type {\n",
       "        vertical-align: middle;\n",
       "    }\n",
       "\n",
       "    .dataframe tbody tr th {\n",
       "        vertical-align: top;\n",
       "    }\n",
       "\n",
       "    .dataframe thead th {\n",
       "        text-align: right;\n",
       "    }\n",
       "</style>\n",
       "<table border=\"1\" class=\"dataframe\">\n",
       "  <thead>\n",
       "    <tr style=\"text-align: right;\">\n",
       "      <th></th>\n",
       "      <th>_id</th>\n",
       "      <th>category_id</th>\n",
       "      <th>picture</th>\n",
       "    </tr>\n",
       "  </thead>\n",
       "  <tbody>\n",
       "    <tr>\n",
       "      <th>0</th>\n",
       "      <td>0</td>\n",
       "      <td>1000010653</td>\n",
       "      <td>/9j/4AAQSkZJRgABAQAAAQABAAD/2wBDAAgGBgcGBQgHBw...</td>\n",
       "    </tr>\n",
       "    <tr>\n",
       "      <th>1</th>\n",
       "      <td>1</td>\n",
       "      <td>1000010653</td>\n",
       "      <td>/9j/4AAQSkZJRgABAQAAAQABAAD/2wBDAAgGBgcGBQgHBw...</td>\n",
       "    </tr>\n",
       "    <tr>\n",
       "      <th>2</th>\n",
       "      <td>2</td>\n",
       "      <td>1000004079</td>\n",
       "      <td>/9j/4AAQSkZJRgABAQAAAQABAAD/2wBDAAgGBgcGBQgHBw...</td>\n",
       "    </tr>\n",
       "    <tr>\n",
       "      <th>3</th>\n",
       "      <td>3</td>\n",
       "      <td>1000004141</td>\n",
       "      <td>/9j/4AAQSkZJRgABAQAAAQABAAD/2wBDAAgGBgcGBQgHBw...</td>\n",
       "    </tr>\n",
       "    <tr>\n",
       "      <th>4</th>\n",
       "      <td>4</td>\n",
       "      <td>1000015539</td>\n",
       "      <td>/9j/4AAQSkZJRgABAQAAAQABAAD/2wBDAAgGBgcGBQgHBw...</td>\n",
       "    </tr>\n",
       "  </tbody>\n",
       "</table>\n",
       "</div>"
      ],
      "text/plain": [
       "   _id  category_id                                            picture\n",
       "0    0   1000010653  /9j/4AAQSkZJRgABAQAAAQABAAD/2wBDAAgGBgcGBQgHBw...\n",
       "1    1   1000010653  /9j/4AAQSkZJRgABAQAAAQABAAD/2wBDAAgGBgcGBQgHBw...\n",
       "2    2   1000004079  /9j/4AAQSkZJRgABAQAAAQABAAD/2wBDAAgGBgcGBQgHBw...\n",
       "3    3   1000004141  /9j/4AAQSkZJRgABAQAAAQABAAD/2wBDAAgGBgcGBQgHBw...\n",
       "4    4   1000015539  /9j/4AAQSkZJRgABAQAAAQABAAD/2wBDAAgGBgcGBQgHBw..."
      ]
     },
     "execution_count": 174,
     "metadata": {},
     "output_type": "execute_result"
    }
   ],
   "source": [
    "data_df.head()"
   ]
  },
  {
   "cell_type": "code",
   "execution_count": 175,
   "id": "c208d92e-3721-4a8a-8957-b93a45200d60",
   "metadata": {},
   "outputs": [
    {
     "data": {
      "text/plain": [
       "_id                                                            0\n",
       "category_id                                           1000010653\n",
       "picture        /9j/4AAQSkZJRgABAQAAAQABAAD/2wBDAAgGBgcGBQgHBw...\n",
       "Name: 0, dtype: object"
      ]
     },
     "execution_count": 175,
     "metadata": {},
     "output_type": "execute_result"
    }
   ],
   "source": [
    "data_df.iloc[0]"
   ]
  },
  {
   "cell_type": "code",
   "execution_count": 176,
   "id": "9d68d13e-2222-49ab-ba31-33628c22fd7b",
   "metadata": {},
   "outputs": [],
   "source": [
    "def get_category_from_level(categories_df, id, level):\n",
    "    return categories_df[categories_df[\"category_id\"] == 1000010653][\"category_level1\"].values[0]"
   ]
  },
  {
   "cell_type": "code",
   "execution_count": 177,
   "id": "4d291742-c92e-44af-9849-3f9590f79274",
   "metadata": {},
   "outputs": [
    {
     "name": "stdout",
     "output_type": "stream",
     "text": [
      "Unique categories:  5270\n",
      "Unique level 1 categories:  49\n",
      "Unique level 2 categories:  483\n",
      "Unique level 3 categories:  5263\n"
     ]
    }
   ],
   "source": [
    "print(\"Unique categories: \", len(categories_df['category_id'].unique()))\n",
    "print(\"Unique level 1 categories: \", len(categories_df['category_level1'].unique()))\n",
    "print(\"Unique level 2 categories: \", len(categories_df['category_level2'].unique()))\n",
    "print(\"Unique level 3 categories: \", len(categories_df['category_level3'].unique()))"
   ]
  },
  {
   "cell_type": "markdown",
   "id": "155083ec-f212-45de-89b2-9b07b60ae82b",
   "metadata": {
    "tags": []
   },
   "source": [
    "### Categories levels\n",
    "There three levels of categories. The first level being more generic (less number of different categories) and the thrid level being more specific (higher number of different categories)"
   ]
  },
  {
   "cell_type": "code",
   "execution_count": 178,
   "id": "aef88f19-4265-4319-a5ec-e412016cb9a5",
   "metadata": {},
   "outputs": [
    {
     "name": "stdout",
     "output_type": "stream",
     "text": [
      "Number of categories for the level 1: 49\n",
      "Number of categories for the level 2: 483\n",
      "Number of categories for the level 3: 5263\n"
     ]
    }
   ],
   "source": [
    "for level in range(1, 4):   \n",
    "    num_category = len(categories_df['category_level' + str(level)].unique())\n",
    "    print(\"Number of categories for the level {}: {}\".format(str(level), str(num_category)))"
   ]
  },
  {
   "cell_type": "markdown",
   "id": "ba5abfc4-ccca-4153-b567-de20e03aa58f",
   "metadata": {},
   "source": [
    "We can visualize the categories levels for the level 1 being ELECTRONIQUE. We can clearly see that for one level 1 category, there are a high number of level 3 categories"
   ]
  },
  {
   "cell_type": "code",
   "execution_count": 179,
   "id": "fb2af14f-824d-4eeb-92a9-823406970c6d",
   "metadata": {},
   "outputs": [
    {
     "data": {
      "text/html": [
       "<div>\n",
       "<style scoped>\n",
       "    .dataframe tbody tr th:only-of-type {\n",
       "        vertical-align: middle;\n",
       "    }\n",
       "\n",
       "    .dataframe tbody tr th {\n",
       "        vertical-align: top;\n",
       "    }\n",
       "\n",
       "    .dataframe thead th {\n",
       "        text-align: right;\n",
       "    }\n",
       "</style>\n",
       "<table border=\"1\" class=\"dataframe\">\n",
       "  <thead>\n",
       "    <tr style=\"text-align: right;\">\n",
       "      <th></th>\n",
       "      <th>category_id</th>\n",
       "      <th>category_level1</th>\n",
       "      <th>category_level2</th>\n",
       "      <th>category_level3</th>\n",
       "    </tr>\n",
       "  </thead>\n",
       "  <tbody>\n",
       "    <tr>\n",
       "      <th>2110</th>\n",
       "      <td>1000013222</td>\n",
       "      <td>ELECTRONIQUE</td>\n",
       "      <td>AUTOMATISME</td>\n",
       "      <td>AUTOMATE PROGRAMMABLE</td>\n",
       "    </tr>\n",
       "    <tr>\n",
       "      <th>2111</th>\n",
       "      <td>1000013224</td>\n",
       "      <td>ELECTRONIQUE</td>\n",
       "      <td>AUTOMATISME</td>\n",
       "      <td>C-CONTROL</td>\n",
       "    </tr>\n",
       "    <tr>\n",
       "      <th>2112</th>\n",
       "      <td>1000013228</td>\n",
       "      <td>ELECTRONIQUE</td>\n",
       "      <td>AUTOMATISME</td>\n",
       "      <td>MAINTENANCE A DISTANCE</td>\n",
       "    </tr>\n",
       "    <tr>\n",
       "      <th>2113</th>\n",
       "      <td>1000013230</td>\n",
       "      <td>ELECTRONIQUE</td>\n",
       "      <td>AUTOMATISME</td>\n",
       "      <td>MESURE ET REGULATION</td>\n",
       "    </tr>\n",
       "    <tr>\n",
       "      <th>2114</th>\n",
       "      <td>1000013232</td>\n",
       "      <td>ELECTRONIQUE</td>\n",
       "      <td>AUTOMATISME</td>\n",
       "      <td>MOTORISATION</td>\n",
       "    </tr>\n",
       "    <tr>\n",
       "      <th>2115</th>\n",
       "      <td>1000013234</td>\n",
       "      <td>ELECTRONIQUE</td>\n",
       "      <td>AUTOMATISME</td>\n",
       "      <td>SIGNALISATION</td>\n",
       "    </tr>\n",
       "    <tr>\n",
       "      <th>2116</th>\n",
       "      <td>1000013237</td>\n",
       "      <td>ELECTRONIQUE</td>\n",
       "      <td>BOITIERS ET COFFRETS</td>\n",
       "      <td>ACCESSOIRES BOITIERS</td>\n",
       "    </tr>\n",
       "    <tr>\n",
       "      <th>2117</th>\n",
       "      <td>1000013239</td>\n",
       "      <td>ELECTRONIQUE</td>\n",
       "      <td>BOITIERS ET COFFRETS</td>\n",
       "      <td>BOITIER D'INSTALLATION MURAL</td>\n",
       "    </tr>\n",
       "  </tbody>\n",
       "</table>\n",
       "</div>"
      ],
      "text/plain": [
       "      category_id category_level1       category_level2  \\\n",
       "2110   1000013222    ELECTRONIQUE           AUTOMATISME   \n",
       "2111   1000013224    ELECTRONIQUE           AUTOMATISME   \n",
       "2112   1000013228    ELECTRONIQUE           AUTOMATISME   \n",
       "2113   1000013230    ELECTRONIQUE           AUTOMATISME   \n",
       "2114   1000013232    ELECTRONIQUE           AUTOMATISME   \n",
       "2115   1000013234    ELECTRONIQUE           AUTOMATISME   \n",
       "2116   1000013237    ELECTRONIQUE  BOITIERS ET COFFRETS   \n",
       "2117   1000013239    ELECTRONIQUE  BOITIERS ET COFFRETS   \n",
       "\n",
       "                   category_level3  \n",
       "2110         AUTOMATE PROGRAMMABLE  \n",
       "2111                     C-CONTROL  \n",
       "2112        MAINTENANCE A DISTANCE  \n",
       "2113          MESURE ET REGULATION  \n",
       "2114                  MOTORISATION  \n",
       "2115                 SIGNALISATION  \n",
       "2116          ACCESSOIRES BOITIERS  \n",
       "2117  BOITIER D'INSTALLATION MURAL  "
      ]
     },
     "execution_count": 179,
     "metadata": {},
     "output_type": "execute_result"
    }
   ],
   "source": [
    "categories_df[categories_df[\"category_level1\"] == \"ELECTRONIQUE\"].head(8)"
   ]
  },
  {
   "cell_type": "code",
   "execution_count": 180,
   "id": "703a39d8-0b3f-4d37-8266-2800bd33887b",
   "metadata": {},
   "outputs": [
    {
     "data": {
      "text/html": [
       "<div>\n",
       "<style scoped>\n",
       "    .dataframe tbody tr th:only-of-type {\n",
       "        vertical-align: middle;\n",
       "    }\n",
       "\n",
       "    .dataframe tbody tr th {\n",
       "        vertical-align: top;\n",
       "    }\n",
       "\n",
       "    .dataframe thead th {\n",
       "        text-align: right;\n",
       "    }\n",
       "</style>\n",
       "<table border=\"1\" class=\"dataframe\">\n",
       "  <thead>\n",
       "    <tr style=\"text-align: right;\">\n",
       "      <th></th>\n",
       "      <th>picture</th>\n",
       "      <th>category_level1</th>\n",
       "    </tr>\n",
       "  </thead>\n",
       "  <tbody>\n",
       "    <tr>\n",
       "      <th>0</th>\n",
       "      <td>/9j/4AAQSkZJRgABAQAAAQABAAD/2wBDAAgGBgcGBQgHBw...</td>\n",
       "      <td>TELEPHONIE - GPS</td>\n",
       "    </tr>\n",
       "    <tr>\n",
       "      <th>1</th>\n",
       "      <td>/9j/4AAQSkZJRgABAQAAAQABAAD/2wBDAAgGBgcGBQgHBw...</td>\n",
       "      <td>TELEPHONIE - GPS</td>\n",
       "    </tr>\n",
       "    <tr>\n",
       "      <th>2</th>\n",
       "      <td>/9j/4AAQSkZJRgABAQAAAQABAAD/2wBDAAgGBgcGBQgHBw...</td>\n",
       "      <td>TELEPHONIE - GPS</td>\n",
       "    </tr>\n",
       "    <tr>\n",
       "      <th>3</th>\n",
       "      <td>/9j/4AAQSkZJRgABAQAAAQABAAD/2wBDAAgGBgcGBQgHBw...</td>\n",
       "      <td>TELEPHONIE - GPS</td>\n",
       "    </tr>\n",
       "    <tr>\n",
       "      <th>4</th>\n",
       "      <td>/9j/4AAQSkZJRgABAQAAAQABAAD/2wBDAAgGBgcGBQgHBw...</td>\n",
       "      <td>TELEPHONIE - GPS</td>\n",
       "    </tr>\n",
       "    <tr>\n",
       "      <th>...</th>\n",
       "      <td>...</td>\n",
       "      <td>...</td>\n",
       "    </tr>\n",
       "    <tr>\n",
       "      <th>84133</th>\n",
       "      <td>/9j/4AAQSkZJRgABAQAAAQABAAD/2wBDAAgGBgcGBQgHBw...</td>\n",
       "      <td>ART DE LA TABLE - ARTICLES CULINAIRES</td>\n",
       "    </tr>\n",
       "    <tr>\n",
       "      <th>84134</th>\n",
       "      <td>/9j/4AAQSkZJRgABAQAAAQABAAD/2wBDAAgGBgcGBQgHBw...</td>\n",
       "      <td>INSTRUMENTS DE MUSIQUE</td>\n",
       "    </tr>\n",
       "    <tr>\n",
       "      <th>84135</th>\n",
       "      <td>/9j/4AAQSkZJRgABAQAAAQABAAD/2wBDAAgGBgcGBQgHBw...</td>\n",
       "      <td>INSTRUMENTS DE MUSIQUE</td>\n",
       "    </tr>\n",
       "    <tr>\n",
       "      <th>84136</th>\n",
       "      <td>/9j/4AAQSkZJRgABAQAAAQABAAD/2wBDAAgGBgcGBQgHBw...</td>\n",
       "      <td>INSTRUMENTS DE MUSIQUE</td>\n",
       "    </tr>\n",
       "    <tr>\n",
       "      <th>84137</th>\n",
       "      <td>/9j/4AAQSkZJRgABAQAAAQABAAD/2wBDAAgGBgcGBQgHBw...</td>\n",
       "      <td>LIBRAIRIE</td>\n",
       "    </tr>\n",
       "  </tbody>\n",
       "</table>\n",
       "<p>84138 rows × 2 columns</p>\n",
       "</div>"
      ],
      "text/plain": [
       "                                                 picture  \\\n",
       "0      /9j/4AAQSkZJRgABAQAAAQABAAD/2wBDAAgGBgcGBQgHBw...   \n",
       "1      /9j/4AAQSkZJRgABAQAAAQABAAD/2wBDAAgGBgcGBQgHBw...   \n",
       "2      /9j/4AAQSkZJRgABAQAAAQABAAD/2wBDAAgGBgcGBQgHBw...   \n",
       "3      /9j/4AAQSkZJRgABAQAAAQABAAD/2wBDAAgGBgcGBQgHBw...   \n",
       "4      /9j/4AAQSkZJRgABAQAAAQABAAD/2wBDAAgGBgcGBQgHBw...   \n",
       "...                                                  ...   \n",
       "84133  /9j/4AAQSkZJRgABAQAAAQABAAD/2wBDAAgGBgcGBQgHBw...   \n",
       "84134  /9j/4AAQSkZJRgABAQAAAQABAAD/2wBDAAgGBgcGBQgHBw...   \n",
       "84135  /9j/4AAQSkZJRgABAQAAAQABAAD/2wBDAAgGBgcGBQgHBw...   \n",
       "84136  /9j/4AAQSkZJRgABAQAAAQABAAD/2wBDAAgGBgcGBQgHBw...   \n",
       "84137  /9j/4AAQSkZJRgABAQAAAQABAAD/2wBDAAgGBgcGBQgHBw...   \n",
       "\n",
       "                             category_level1  \n",
       "0                           TELEPHONIE - GPS  \n",
       "1                           TELEPHONIE - GPS  \n",
       "2                           TELEPHONIE - GPS  \n",
       "3                           TELEPHONIE - GPS  \n",
       "4                           TELEPHONIE - GPS  \n",
       "...                                      ...  \n",
       "84133  ART DE LA TABLE - ARTICLES CULINAIRES  \n",
       "84134                 INSTRUMENTS DE MUSIQUE  \n",
       "84135                 INSTRUMENTS DE MUSIQUE  \n",
       "84136                 INSTRUMENTS DE MUSIQUE  \n",
       "84137                              LIBRAIRIE  \n",
       "\n",
       "[84138 rows x 2 columns]"
      ]
     },
     "execution_count": 180,
     "metadata": {},
     "output_type": "execute_result"
    }
   ],
   "source": [
    "keep_columns = [\"picture\", \"category_level1\"]\n",
    "imgs_with_labels = data_df.merge(categories_df, left_on=\"category_id\", right_on=\"category_id\")[keep_columns]\n",
    "imgs_with_labels"
   ]
  },
  {
   "cell_type": "markdown",
   "id": "e4130fa0-327f-468c-b0c2-da437c7590f2",
   "metadata": {},
   "source": [
    "**We will focus on the first level for our image classifer**"
   ]
  },
  {
   "cell_type": "markdown",
   "id": "db79d2ac-01a6-4e01-85e3-e16a3a92a3b6",
   "metadata": {},
   "source": [
    "### Keeping categories having enough images"
   ]
  },
  {
   "cell_type": "code",
   "execution_count": 181,
   "id": "5fa05990-0d9c-40e3-bb01-38e15f20439c",
   "metadata": {},
   "outputs": [
    {
     "data": {
      "text/html": [
       "<div>\n",
       "<style scoped>\n",
       "    .dataframe tbody tr th:only-of-type {\n",
       "        vertical-align: middle;\n",
       "    }\n",
       "\n",
       "    .dataframe tbody tr th {\n",
       "        vertical-align: top;\n",
       "    }\n",
       "\n",
       "    .dataframe thead th {\n",
       "        text-align: right;\n",
       "    }\n",
       "</style>\n",
       "<table border=\"1\" class=\"dataframe\">\n",
       "  <thead>\n",
       "    <tr style=\"text-align: right;\">\n",
       "      <th></th>\n",
       "      <th>images_count</th>\n",
       "    </tr>\n",
       "    <tr>\n",
       "      <th>category_id</th>\n",
       "      <th></th>\n",
       "    </tr>\n",
       "  </thead>\n",
       "  <tbody>\n",
       "    <tr>\n",
       "      <th>1000000237</th>\n",
       "      <td>1</td>\n",
       "    </tr>\n",
       "    <tr>\n",
       "      <th>1000000249</th>\n",
       "      <td>13</td>\n",
       "    </tr>\n",
       "    <tr>\n",
       "      <th>1000000253</th>\n",
       "      <td>6</td>\n",
       "    </tr>\n",
       "    <tr>\n",
       "      <th>1000000271</th>\n",
       "      <td>9</td>\n",
       "    </tr>\n",
       "    <tr>\n",
       "      <th>1000000285</th>\n",
       "      <td>3</td>\n",
       "    </tr>\n",
       "  </tbody>\n",
       "</table>\n",
       "</div>"
      ],
      "text/plain": [
       "             images_count\n",
       "category_id              \n",
       "1000000237              1\n",
       "1000000249             13\n",
       "1000000253              6\n",
       "1000000271              9\n",
       "1000000285              3"
      ]
     },
     "execution_count": 181,
     "metadata": {},
     "output_type": "execute_result"
    }
   ],
   "source": [
    "df_count = data_df.groupby(['category_id'])['_id'].count()\n",
    "df_category_count = pd.DataFrame(df_count)\n",
    "df_category_count.columns = [\"images_count\"]\n",
    "df_category_count.head()"
   ]
  },
  {
   "cell_type": "code",
   "execution_count": 182,
   "id": "a6697f94-338d-44cc-b4c6-236537dca00d",
   "metadata": {},
   "outputs": [],
   "source": [
    "df_count_N = df_category_count[df_category_count[\"images_count\"] >= NUMBER_IMAGE_MINIMUM]"
   ]
  },
  {
   "cell_type": "code",
   "execution_count": 183,
   "id": "ed358ff8-bebc-4a84-82f3-c7522f2efdfc",
   "metadata": {},
   "outputs": [
    {
     "name": "stdout",
     "output_type": "stream",
     "text": [
      "Remaining categories having at least 0 images: 2886\n"
     ]
    }
   ],
   "source": [
    "# List of remaining categories (first level)\n",
    "list_category_id_N = list(df_count_N.index.values)\n",
    "print(\"Remaining categories having at least {} images: {}\" .format(str(NUMBER_IMAGE_MINIMUM), len(list_category_id_N)))"
   ]
  },
  {
   "cell_type": "markdown",
   "id": "2de65658-f25d-47ac-9889-fdd45ee4aa36",
   "metadata": {},
   "source": [
    "## Creating the image data"
   ]
  },
  {
   "cell_type": "markdown",
   "id": "985ceeec-71fa-4c9d-9d18-6600c14223f7",
   "metadata": {},
   "source": [
    "### Creating ID folders"
   ]
  },
  {
   "cell_type": "code",
   "execution_count": 184,
   "id": "ae139a0a-caf9-4f97-ade5-eb9422aca5b2",
   "metadata": {},
   "outputs": [],
   "source": [
    "def create_category_id_folders(list_category_id, img_folder) :\n",
    "    make_folder_if_not_exist(img_folder)\n",
    "    for cat_id in list_category_id :\n",
    "        dest_path = os.path.join(img_folder,str(cat_id))\n",
    "        make_folder_if_not_exist(dest_path)\n",
    "        \n",
    "def make_folder_if_not_exist(img_folder):\n",
    "    if not os.path.exists(img_folder):\n",
    "        os.mkdir(img_folder)\n",
    "categories = list(imgs_with_labels[\"category_level1\"].unique())\n",
    "\n",
    "# delete IMAGES_FOLDER if it exists\n",
    "if not os.path.exists(IMAGES_FOLDER):\n",
    "    os.remove(IMAGES_FOLDER)\n",
    "create_category_id_folders(categories, IMAGES_FOLDER)"
   ]
  },
  {
   "cell_type": "markdown",
   "id": "8f536434-f317-4a8f-8a2f-c1ccedcdad78",
   "metadata": {},
   "source": [
    "### Export images from their binary representation in their respective folders"
   ]
  },
  {
   "cell_type": "code",
   "execution_count": 185,
   "id": "b4211dd6-2a31-4047-9c42-4286af9261e3",
   "metadata": {},
   "outputs": [
    {
     "name": "stdout",
     "output_type": "stream",
     "text": [
      "10%\n",
      "20%\n",
      "30%\n",
      "40%\n",
      "50%\n",
      "60%\n",
      "70%\n",
      "80%\n",
      "90%\n",
      "100%\n",
      "110%\n",
      "120%\n",
      "130%\n",
      "140%\n",
      "150%\n",
      "160%\n",
      "170%\n"
     ]
    }
   ],
   "source": [
    "def write_images_to_category_folder(data, img_folder) :\n",
    "    i = 0\n",
    "    counter = 0\n",
    "    for j, d in data.iterrows() :\n",
    "        \n",
    "        if (i % (MAX_RECORD/10)) == 0:\n",
    "            counter += 10\n",
    "            print(str(counter) + \"%\")\n",
    "            \n",
    "        dest_path = os.path.join(img_folder,str(d['category_level1']),str(d['category_level1'])+'_'+str(i)+'.jpg')\n",
    "        data_ = d['picture']\n",
    "        imgdata = base64.b64decode(data_)\n",
    "        with open(dest_path, 'wb') as f:\n",
    "            f.write(imgdata)\n",
    "            i+=1\n",
    "            \n",
    "write_images_to_category_folder(imgs_with_labels, IMAGES_FOLDER)"
   ]
  },
  {
   "cell_type": "code",
   "execution_count": null,
   "id": "8c700b09-67ca-45f4-a589-e025546fe884",
   "metadata": {},
   "outputs": [],
   "source": []
  }
 ],
 "metadata": {
  "kernelspec": {
   "display_name": "Python 3 (ipykernel)",
   "language": "python",
   "name": "python3"
  },
  "language_info": {
   "codemirror_mode": {
    "name": "ipython",
    "version": 3
   },
   "file_extension": ".py",
   "mimetype": "text/x-python",
   "name": "python",
   "nbconvert_exporter": "python",
   "pygments_lexer": "ipython3",
   "version": "3.8.15"
  }
 },
 "nbformat": 4,
 "nbformat_minor": 5
}
